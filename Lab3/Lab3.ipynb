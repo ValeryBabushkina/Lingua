{
 "cells": [
  {
   "cell_type": "markdown",
   "metadata": {},
   "source": [
    "# Lab3"
   ]
  },
  {
   "cell_type": "code",
   "execution_count": 3,
   "metadata": {},
   "outputs": [
    {
     "name": "stdout",
     "output_type": "stream",
     "text": [
      "['Zamyatin', 'Foer', 'Wonnegut', 'Golding', 'Oruell']\n"
     ]
    }
   ],
   "source": [
    "import os\n",
    "\n",
    "texts = {}\n",
    "\n",
    "for writer in os.listdir(r\"/home/valeriya/Downloads/Lab3/\"):\n",
    "    textNames = os.listdir(r\"/home/valeriya/Downloads/Lab3/\" + writer)\n",
    "    texts.update({writer: textNames})\n",
    "\n",
    "writers = list(texts.keys())\n",
    "\n",
    "print(writers)"
   ]
  },
  {
   "cell_type": "markdown",
   "metadata": {},
   "source": [
    "Выводим список произведений по авторам:"
   ]
  },
  {
   "cell_type": "code",
   "execution_count": 4,
   "metadata": {
    "scrolled": true
   },
   "outputs": [
    {
     "name": "stdout",
     "output_type": "stream",
     "text": [
      "{'Zamyatin': ['ТРИ ДНЯ.txt', 'НА КУЛИЧИКАХ.txt', 'МЫ.txt'], 'Foer': ['Вот я.txt', 'Мясо. Eating Animals.txt', 'Жутко громко и запредельно близко.txt'], 'Wonnegut': ['Сирены Титана.txt', 'Синяя Борода.txt', 'Бойня.txt'], 'Golding': ['Свободное падение.txt', 'Повелитель мух.txt', 'Негасимое пламя.txt'], 'Oruell': ['1984.txt', 'СКОТНЫЙ ДВОР.txt', 'ДОЧЬ СВЯЩЕННИКА.txt']}\n"
     ]
    }
   ],
   "source": [
    "print(texts)"
   ]
  },
  {
   "cell_type": "markdown",
   "metadata": {},
   "source": [
    "Функция для разбиения входных текстов на части по n символов:"
   ]
  },
  {
   "cell_type": "code",
   "execution_count": 5,
   "metadata": {},
   "outputs": [],
   "source": [
    "import itertools\n",
    "def grouper(n, iterable):\n",
    "    args = [iter(iterable)] * n\n",
    "    return list(\"\".join([e for e in t if e != None]) for t in itertools.zip_longest(*args))"
   ]
  },
  {
   "cell_type": "markdown",
   "metadata": {},
   "source": [
    "Загружаем тексты:"
   ]
  },
  {
   "cell_type": "code",
   "execution_count": 8,
   "metadata": {},
   "outputs": [],
   "source": [
    "data = []\n",
    "label_list = []\n",
    "for writer in writers:\n",
    "    books = []\n",
    "    for text in texts[writer]:\n",
    "        with open(r\"/home/valeriya/Downloads/Lab3/\" + writer + \"//\" + text) as bookFile:\n",
    "            book = bookFile.read().replace('\\n', ' ').replace('\\xa0', ' ')\n",
    "            for b in grouper(100000, book):\n",
    "                books.append(b)\n",
    "                label_list.append(writer + '_' + text[:-4])\n",
    "    data.append(books)"
   ]
  },
  {
   "cell_type": "markdown",
   "metadata": {},
   "source": [
    "Загрузка необходимых для работы с текстами модулей:"
   ]
  },
  {
   "cell_type": "code",
   "execution_count": 13,
   "metadata": {
    "scrolled": true
   },
   "outputs": [],
   "source": [
    "import spacy\n",
    "nlp = spacy.load(r\"/home/valeriya/Downloads/spacy-ru-master/ru2\")"
   ]
  },
  {
   "cell_type": "code",
   "execution_count": 17,
   "metadata": {},
   "outputs": [
    {
     "name": "stdout",
     "output_type": "stream",
     "text": [
      "[nltk_data] Downloading package punkt to /home/valeriya/nltk_data...\n",
      "[nltk_data]   Unzipping tokenizers/punkt.zip.\n"
     ]
    }
   ],
   "source": [
    "from nltk.tokenize import sent_tokenize\n",
    "import nltk\n",
    "nltk.download('punkt')\n",
    "\n",
    "from nltk import word_tokenize,sent_tokenize"
   ]
  },
  {
   "cell_type": "markdown",
   "metadata": {},
   "source": [
    "Разобьём по предложениям:"
   ]
  },
  {
   "cell_type": "code",
   "execution_count": 18,
   "metadata": {},
   "outputs": [],
   "source": [
    "sent_tokenize_list = sent_tokenize(data[0][0])"
   ]
  },
  {
   "cell_type": "markdown",
   "metadata": {},
   "source": [
    "Посмотрим на результат разделения по предложениям:"
   ]
  },
  {
   "cell_type": "code",
   "execution_count": 19,
   "metadata": {},
   "outputs": [
    {
     "name": "stdout",
     "output_type": "stream",
     "text": [
      "#0:﻿ Евгений Замятин Три дня  Солнце, песок, черномазые арабы, песок, верблюды, пальмы, песок, кактусы.\n",
      "#1:Где-нибудь в другом месте не арабы, а турки, и опять – солнце, верблюды, песок.\n",
      "#2:Повсюду одинаково звонко, ослепительно-ярко.\n",
      "#3:И вечный шелковый шум волн при переезде из порта в порт, – этим шелком закутаны глаза, уши.\n",
      "#4:Под конец совсем падаешь под тяжестью впечатлений, сквозь шелк все уже еле видно, еле слышно.\n",
      "#5:Всякие разговоры начинаются с одного: «А вот, когда мы придем в Одессу … » И наконец – пришли.\n",
      "#6:Солнце садится, значит – опоздали: таможенный досмотр будет только завтра, а до тех пор на берег нельзя.\n",
      "#7:– Полюбуйтесь-ка вот, издали.\n",
      "#8:Близок локоток, а не укусишь, – подхихикивает старший механик.\n",
      "#9:Борода у него седая, длинная, как у Моисея-пророка; медленно ее поглаживает.\n",
      "#10:Шум улиц легко бежит к нам по воде.\n",
      "#11:Золотеет над городом облако пыли.\n",
      "#12:Вспыхнули красным верхушки наших мачт, стекла в иллюминаторах.\n",
      "#13:Погасли.\n",
      "#14:Темнеет.\n",
      "#15:Два белых военных судна – резкие, вырезанные в синем полотне сумерек.\n",
      "#16:– А эти военные – зачем здесь?\n",
      "#17:– Захотелось господам офицерам одесских девочек посмотреть, ну, вот и пришли … – Это опять механик: он все знает, все и всегда.\n",
      "#18:Берет бинокль, смотрит: – Броненосец и миноноска, севастопольские, – говорит он.\n",
      "#19:Мы спускаемся спать в каюты.\n",
      "#20:Ночь наивная, тихая, обыкновенная, еще не подозревающая, что в ее темную глубину уже брошена искра, что она вот-вот заполыхает …  Утром – чуть свет поднялась беготня на палубе, гвалт: таможенные пришли.\n",
      "#21:С какими-то крючьями, как черти в аду, копаются.\n",
      "#22:Обыкновенный, пыльный, потный, плетется день.\n",
      "#23:За обедом все торопятся: поскорей бы кончить – и в город.\n",
      "#24:На берегу успел побывать только седобородый механик: везде у него приятельства и знакомства, он исхитрился выбраться с утра, еще до таможенных.\n",
      "#25:Теперь сидел и рассказывал всякие новости, были и небылицы.\n",
      "#26:– Хе … Торчите вы тут и ничего не знаете!\n",
      "#27:А там дела, там дела!\n",
      "#28:Какие?\n",
      "#29:А такие, что на броненосце на этом всех офицеров повыкидали за борт.\n",
      "#30:Лейтенантик матроса у них ухлопал, ну и пошло писать … Думаете – вру?\n",
      "#31:Да подите вы к черту!\n",
      "#32:За столом улыбались: знали, любит старик удивить.\n",
      "#33:Ну, пускай, пускай потешится … После обеда поймал меня Григорий Васильич, машинист, затащил к себе в каюту, прикрыл дверь.\n",
      "#34:На правой руке не было у него двух пальцев, всегда прятал руку, а сейчас забыл все: говорил, размахивал рукою, мелькали перед глазами култышки.\n",
      "#35:– Слушьте: он на Новом молу лежит.\n",
      "#36:Факт.\n",
      "#37:И народу туда идет – тьма-тьмущая.\n",
      "#38:Такое начинается, что я и не знаю … Слушьте, пойдемте, а?\n",
      "#39:Григорий Васильич – человек положительный.\n",
      "#40:Значит, и правда – что-нибудь … Весело-тревожно начинает биться сердце.\n",
      "#41:Мы быстро идем по берегу по-над морем.\n",
      "#42:Солнце на небе ярко празднует, ветер стих, на море взглянуть нельзя – ослепнешь.\n",
      "#43:Переходим какие-то пути, спотыкаемся, свертываем по серой улице пакгаузов – и вдруг попадаем неожиданно в поток людей, спускающихся сверху из города в порт.\n",
      "#44:Что-то похожее на крестный ход: так много, такие разные.\n",
      "#45:Панамы, босоногие ребятишки, солдаты, перчатки, шелковые зонтики, опорки, воротнички … Идем.\n",
      "#46:Чей-то голос сзади – неуклюжий и медлительный: – Воны, чорноморьци, давишь говорыли, что к нам прыйдуть.\n",
      "#47:Вот и прыйшли.\n",
      "#48:Я обернулся: рябой солдатик поучал своего товарища.\n",
      "#49:– А офыцеров воны и не побили вовсе, тильки заперли.\n"
     ]
    }
   ],
   "source": [
    "for sent_index, sent in enumerate(sent_tokenize_list[:50]):\n",
    "    print(\"#{}:{}\".format(sent_index, sent))"
   ]
  },
  {
   "cell_type": "markdown",
   "metadata": {},
   "source": [
    "Напишем функцию, которая парсит по одному предложению и выводит некоторую информацию:"
   ]
  },
  {
   "cell_type": "code",
   "execution_count": 20,
   "metadata": {},
   "outputs": [],
   "source": [
    "def parse_one_sentence(one_sentence):\n",
    "    doc = nlp(one_sentence)\n",
    "    for token in doc:\n",
    "        print('{} \\ {} \\ {} \\ {} \\ {} \\ {}'.format(\n",
    "            token.text, \n",
    "            token.lemma_,\n",
    "            token.pos_, \n",
    "            token.tag_, \n",
    "            token.dep_, \n",
    "            token.head.text\n",
    "        ))\n",
    "\n"
   ]
  },
  {
   "cell_type": "markdown",
   "metadata": {},
   "source": [
    "Теперь проведем анализ для каждого из предложений:"
   ]
  },
  {
   "cell_type": "code",
   "execution_count": 21,
   "metadata": {},
   "outputs": [
    {
     "name": "stdout",
     "output_type": "stream",
     "text": [
      "Sentence #0\t﻿ Евгений Замятин Три дня  Солнце, песок, черномазые арабы, песок, верблюды, пальмы, песок, кактусы.\n",
      "﻿ \\ ﻿ \\ NOUN \\ NOUN__Animacy=Anim|Case=Nom|Gender=Masc|Number=Sing \\ ROOT \\ ﻿\n",
      "Евгений \\ евгений \\ PROPN \\ PROPN__Animacy=Anim|Case=Nom|Gender=Masc|Number=Sing \\ nsubj \\ ﻿\n",
      "Замятин \\ замятин \\ PROPN \\ PROPN__Animacy=Anim|Case=Nom|Gender=Fem|Number=Sing \\ flat:name \\ Евгений\n",
      "Три \\ три \\ NUM \\ NUM__Animacy=Inan|Case=Acc \\ nummod:gov \\ дня\n",
      "дня \\ день \\ NOUN \\ NOUN__Animacy=Inan|Case=Gen|Gender=Masc|Number=Sing \\ obl \\ ﻿\n",
      "  \\   \\ SPACE \\  \\  \\ дня\n",
      "Солнце \\ солнце \\ PROPN \\ PROPN__Animacy=Inan|Case=Acc|Gender=Neut|Number=Sing \\ parataxis \\ дня\n",
      ", \\ , \\ PUNCT \\ PUNCT___ \\ punct \\ песок\n",
      "песок \\ песок \\ NOUN \\ NOUN__Animacy=Inan|Case=Nom|Gender=Masc|Number=Sing \\ conj \\ дня\n",
      ", \\ , \\ PUNCT \\ PUNCT___ \\ punct \\ черномазые\n",
      "черномазые \\ черномазый \\ ADJ \\ ADJ__Case=Nom|Degree=Pos|Number=Plur \\ conj \\ дня\n",
      "арабы \\ арабы \\ NOUN \\ NOUN__Animacy=Inan|Case=Acc|Gender=Masc|Number=Plur \\ iobj \\ черномазые\n",
      ", \\ , \\ PUNCT \\ PUNCT___ \\ punct \\ песок\n",
      "песок \\ песок \\ NOUN \\ NOUN__Animacy=Inan|Case=Acc|Gender=Masc|Number=Sing \\ conj \\ арабы\n",
      ", \\ , \\ PUNCT \\ PUNCT___ \\ punct \\ верблюды\n",
      "верблюды \\ верблюд \\ NOUN \\ NOUN__Animacy=Anim|Case=Nom|Gender=Masc|Number=Plur \\ conj \\ арабы\n",
      ", \\ , \\ PUNCT \\ PUNCT___ \\ punct \\ пальмы\n",
      "пальмы \\ пальмы \\ NOUN \\ NOUN__Animacy=Anim|Case=Nom|Gender=Masc|Number=Plur \\ conj \\ арабы\n",
      ", \\ , \\ PUNCT \\ PUNCT___ \\ punct \\ песок\n",
      "песок \\ песок \\ NOUN \\ NOUN__Animacy=Inan|Case=Acc|Gender=Masc|Number=Sing \\ conj \\ арабы\n",
      ", \\ , \\ PUNCT \\ PUNCT___ \\ punct \\ кактусы\n",
      "кактусы \\ кактус \\ NOUN \\ NOUN__Animacy=Inan|Case=Acc|Gender=Masc|Number=Plur \\ conj \\ арабы\n",
      ". \\ . \\ PUNCT \\ PUNCT___ \\ punct \\ кактусы\n",
      "\n",
      "\n",
      "\n",
      "Sentence #1\tГде-нибудь в другом месте не арабы, а турки, и опять – солнце, верблюды, песок.\n",
      "Где \\ где \\ ADV \\ ADV__Degree=Pos \\ ROOT \\ Где\n",
      "- \\ - \\ PUNCT \\ PUNCT___ \\ punct \\ нибудь\n",
      "нибудь \\ нибудь \\ ADJ \\ ADJ__Degree=Pos|Number=Plur|Variant=Short \\ parataxis \\ арабы\n",
      "в \\ в \\ ADP \\ ADP___ \\ case \\ месте\n",
      "другом \\ другом \\ ADJ \\ ADJ__Case=Loc|Degree=Pos|Gender=Masc|Number=Sing \\ amod \\ месте\n",
      "месте \\ место \\ NOUN \\ NOUN__Animacy=Inan|Case=Loc|Gender=Neut|Number=Sing \\ obl \\ нибудь\n",
      "не \\ не \\ PART \\ PART___ \\ advmod \\ арабы\n",
      "арабы \\ араб \\ NOUN \\ NOUN__Animacy=Inan|Case=Nom|Gender=Masc|Number=Plur \\ nsubj \\ Где\n",
      ", \\ , \\ PUNCT \\ PUNCT___ \\ punct \\ турки\n",
      "а \\ а \\ CCONJ \\ CCONJ___ \\ cc \\ турки\n",
      "турки \\ турки \\ NOUN \\ NOUN__Animacy=Inan|Case=Nom|Gender=Fem|Number=Plur \\ conj \\ арабы\n",
      ", \\ , \\ PUNCT \\ PUNCT___ \\ punct \\ –\n",
      "и \\ и \\ CCONJ \\ CCONJ___ \\ cc \\ –\n",
      "опять \\ опять \\ ADV \\ ADV__Degree=Pos \\ advmod \\ –\n",
      "– \\ – \\ PUNCT \\ PUNCT___ \\ conj \\ арабы\n",
      "солнце \\ солнце \\ NOUN \\ NOUN__Animacy=Inan|Case=Nom|Gender=Neut|Number=Sing \\ nmod \\ –\n",
      ", \\ , \\ PUNCT \\ PUNCT___ \\ punct \\ верблюды\n",
      "верблюды \\ верблюд \\ NOUN \\ NOUN__Animacy=Anim|Case=Nom|Gender=Masc|Number=Plur \\ conj \\ арабы\n",
      ", \\ , \\ PUNCT \\ PUNCT___ \\ punct \\ песок\n",
      "песок \\ песок \\ NOUN \\ NOUN__Animacy=Inan|Case=Acc|Gender=Masc|Number=Sing \\ conj \\ арабы\n",
      ". \\ . \\ PUNCT \\ PUNCT___ \\ punct \\ песок\n",
      "\n",
      "\n",
      "\n",
      "Sentence #2\tПовсюду одинаково звонко, ослепительно-ярко.\n",
      "Повсюду \\ повсюду \\ ADV \\ ADV__Degree=Pos \\ advmod \\ звонко\n",
      "одинаково \\ одинаково \\ ADV \\ ADV__Degree=Pos \\ advmod \\ звонко\n",
      "звонко \\ звонко \\ ADV \\ ADV__Degree=Pos \\ ROOT \\ звонко\n",
      ", \\ , \\ PUNCT \\ PUNCT___ \\ punct \\ ослепительно\n",
      "ослепительно \\ ослепительный \\ ADJ \\ ADJ__Degree=Pos \\ orphan \\ ярко\n",
      "- \\ - \\ PUNCT \\ PUNCT___ \\ punct \\ ярко\n",
      "ярко \\ яркий \\ ADJ \\ ADJ__Degree=Pos|Gender=Neut|Number=Sing|Variant=Short \\ conj \\ звонко\n",
      ". \\ . \\ PUNCT \\ PUNCT___ \\ punct \\ ярко\n",
      "\n",
      "\n",
      "\n",
      "Sentence #3\tИ вечный шелковый шум волн при переезде из порта в порт, – этим шелком закутаны глаза, уши.\n",
      "И \\ и \\ CCONJ \\ CCONJ___ \\ cc \\ закутаны\n",
      "вечный \\ вечный \\ ADJ \\ ADJ__Case=Nom|Degree=Pos|Gender=Masc|Number=Sing \\ amod \\ шум\n",
      "шелковый \\ шёлковый \\ ADJ \\ ADJ__Animacy=Inan|Case=Acc|Degree=Pos|Gender=Masc|Number=Sing \\ amod \\ шум\n",
      "шум \\ шум \\ NOUN \\ NOUN__Animacy=Inan|Case=Nom|Gender=Masc|Number=Sing \\ nsubj:pass \\ закутаны\n",
      "волн \\ волна \\ NOUN \\ NOUN__Animacy=Inan|Case=Gen|Gender=Fem|Number=Plur \\ nmod \\ шум\n",
      "при \\ при \\ ADP \\ ADP___ \\ case \\ переезде\n",
      "переезде \\ переезд \\ NOUN \\ NOUN__Animacy=Inan|Case=Loc|Gender=Masc|Number=Sing \\ nmod \\ шум\n",
      "из \\ из \\ ADP \\ ADP___ \\ case \\ порта\n",
      "порта \\ порт \\ NOUN \\ NOUN__Animacy=Inan|Case=Gen|Gender=Masc|Number=Sing \\ nmod \\ переезде\n",
      "в \\ в \\ ADP \\ ADP___ \\ case \\ порт\n",
      "порт \\ порт \\ NOUN \\ NOUN__Animacy=Inan|Case=Acc|Gender=Masc|Number=Sing \\ nmod \\ переезде\n",
      ", \\ , \\ PUNCT \\ PUNCT___ \\ punct \\ закутаны\n",
      "– \\ – \\ PUNCT \\ PUNCT___ \\ nsubj:pass \\ закутаны\n",
      "этим \\ этот \\ DET \\ DET__Case=Ins|Gender=Masc|Number=Sing \\ det \\ шелком\n",
      "шелком \\ шёлк \\ NOUN \\ NOUN__Animacy=Inan|Case=Ins|Gender=Masc|Number=Sing \\ obl \\ закутаны\n",
      "закутаны \\ закутать \\ VERB \\ VERB__Aspect=Perf|Number=Plur|Tense=Past|Variant=Short|VerbForm=Part|Voice=Pass \\ ROOT \\ закутаны\n",
      "глаза \\ глаз \\ NOUN \\ NOUN__Animacy=Inan|Case=Nom|Gender=Masc|Number=Plur \\ nsubj:pass \\ закутаны\n",
      ", \\ , \\ PUNCT \\ PUNCT___ \\ punct \\ уши\n",
      "уши \\ ухо \\ NOUN \\ NOUN__Animacy=Inan|Case=Nom|Gender=Neut|Number=Plur \\ conj \\ глаза\n",
      ". \\ . \\ PUNCT \\ PUNCT___ \\ punct \\ уши\n",
      "\n",
      "\n",
      "\n",
      "Sentence #4\tПод конец совсем падаешь под тяжестью впечатлений, сквозь шелк все уже еле видно, еле слышно.\n",
      "Под \\ под \\ ADP \\ ADP___ \\ case \\ конец\n",
      "конец \\ конец \\ NOUN \\ NOUN__Animacy=Inan|Case=Acc|Gender=Masc|Number=Sing \\ obl \\ падаешь\n",
      "совсем \\ совсем \\ ADV \\ ADV__Degree=Pos \\ advmod \\ падаешь\n",
      "падаешь \\ падать \\ VERB \\ VERB__Aspect=Imp|Mood=Ind|Number=Sing|Person=2|Tense=Pres|VerbForm=Fin|Voice=Act \\ ROOT \\ падаешь\n",
      "под \\ под \\ ADP \\ ADP___ \\ case \\ тяжестью\n",
      "тяжестью \\ тяжесть \\ NOUN \\ NOUN__Animacy=Inan|Case=Ins|Gender=Fem|Number=Sing \\ obl \\ падаешь\n",
      "впечатлений \\ впечатление \\ NOUN \\ NOUN__Animacy=Inan|Case=Gen|Gender=Neut|Number=Plur \\ nmod \\ тяжестью\n",
      ", \\ , \\ PUNCT \\ PUNCT___ \\ punct \\ видно\n",
      "сквозь \\ сквозь \\ ADP \\ ADP___ \\ case \\ шелк\n",
      "шелк \\ шёлк \\ NOUN \\ NOUN__Animacy=Inan|Case=Acc|Gender=Masc|Number=Sing \\ obl \\ видно\n",
      "все \\ все \\ PART \\ PART___ \\ nsubj \\ видно\n",
      "уже \\ уже \\ ADV \\ ADV__Degree=Pos \\ advmod \\ видно\n",
      "еле \\ еле \\ PART \\ PART___ \\ advmod \\ видно\n",
      "видно \\ видно \\ ADV \\ ADV__Degree=Pos \\ conj \\ падаешь\n",
      ", \\ , \\ PUNCT \\ PUNCT___ \\ punct \\ слышно\n",
      "еле \\ еле \\ PART \\ PART___ \\ obl \\ слышно\n",
      "слышно \\ слышно \\ ADV \\ ADV__Degree=Pos \\ conj \\ падаешь\n",
      ". \\ . \\ PUNCT \\ PUNCT___ \\ punct \\ слышно\n",
      "\n",
      "\n",
      "\n"
     ]
    }
   ],
   "source": [
    "for sent_index, sent in enumerate(sent_tokenize_list[:5]):\n",
    "    print(\"Sentence #{}\\t{}\".format(sent_index,sent))\n",
    "    parse_one_sentence(sent)\n",
    "    print('\\n\\n')"
   ]
  },
  {
   "cell_type": "markdown",
   "metadata": {},
   "source": [
    "Используем одно из предложений:"
   ]
  },
  {
   "cell_type": "code",
   "execution_count": 22,
   "metadata": {},
   "outputs": [
    {
     "data": {
      "text/plain": [
       "'Взобрался по трапу, поглаживает длинную, как у Моисея-пророка, бороду: – Еле-еле пробрался к вам.'"
      ]
     },
     "execution_count": 22,
     "metadata": {},
     "output_type": "execute_result"
    }
   ],
   "source": [
    "sent_tokenize_list[353]"
   ]
  },
  {
   "cell_type": "markdown",
   "metadata": {},
   "source": [
    "Выводим семантическое дерево:"
   ]
  },
  {
   "cell_type": "code",
   "execution_count": 23,
   "metadata": {},
   "outputs": [
    {
     "name": "stdout",
     "output_type": "stream",
     "text": [
      "                                          Взобрался                                         \n",
      "   ___________________________________________|____________________________                  \n",
      "  |       поглаживает                                                      |                \n",
      "  |     _______|_____________                                              |                 \n",
      "  |    |                  длинную                                          |                \n",
      "  |    |                     |                                             |                 \n",
      "  |    |                   Моисея                                      пробрался            \n",
      "  |    |        _____________|________________________           __________|______________   \n",
      "трапу  |       |       |     |    пророка           бороду      |   |             –      вам\n",
      "  |    |       |       |     |       |         _______|_____    |   |       ______|___    |  \n",
      "  по   ,       ,      как    у       -        ,             :  еле  .     Еле         -   к \n",
      "\n"
     ]
    }
   ],
   "source": [
    "doc = nlp(sent_tokenize_list[353])\n",
    "\n",
    "from nltk import Tree\n",
    "\n",
    "def to_nltk_tree(node):\n",
    "    if node.n_lefts + node.n_rights > 0:\n",
    "        return Tree(node.orth_, [to_nltk_tree(child) for child in node.children])\n",
    "    else:\n",
    "        return node.orth_\n",
    "\n",
    "to_nltk_tree(list(doc.sents)[0].root).pretty_print()"
   ]
  },
  {
   "cell_type": "code",
   "execution_count": 24,
   "metadata": {},
   "outputs": [],
   "source": [
    "def attr(doc):\n",
    "    out = {'sentSize': len(doc)}\n",
    "    for word in doc:\n",
    "        if word.dep_ =='ROOT': out.update({'rootChild': len(list(word.children))})\n",
    "\n",
    "    import json\n",
    "\n",
    "    def depth(jsn):\n",
    "        if 'modifiers' in jsn.keys():\n",
    "            return 1 +  max([0] + list(map(depth, jsn['modifiers'])))\n",
    "        else:\n",
    "            return 1\n",
    "\n",
    "    j = json.loads(str(doc.print_tree()[0]).replace('\\'', \"\\\"\"))\n",
    "    out.update({'depthTree': depth(j)})\n",
    "    return out"
   ]
  },
  {
   "cell_type": "code",
   "execution_count": 25,
   "metadata": {},
   "outputs": [
    {
     "data": {
      "text/plain": [
       "Взобрался по трапу, поглаживает длинную, как у Моисея-пророка, бороду: – Еле-еле пробрался к вам."
      ]
     },
     "execution_count": 25,
     "metadata": {},
     "output_type": "execute_result"
    }
   ],
   "source": [
    "doc"
   ]
  },
  {
   "cell_type": "code",
   "execution_count": 26,
   "metadata": {},
   "outputs": [
    {
     "data": {
      "text/plain": [
       "{'sentSize': 23, 'rootChild': 3, 'depthTree': 6}"
      ]
     },
     "execution_count": 26,
     "metadata": {},
     "output_type": "execute_result"
    }
   ],
   "source": [
    "attr(doc)"
   ]
  },
  {
   "cell_type": "markdown",
   "metadata": {},
   "source": [
    "Вычисление числа встречающихся в тексте различных трилетов (используются топ-10 из наиболее встречаемых трилетов):"
   ]
  },
  {
   "cell_type": "code",
   "execution_count": 27,
   "metadata": {},
   "outputs": [],
   "source": [
    "from itertools import combinations\n",
    "\n",
    "def treelets(data, topN=10):\n",
    "    one_gram_treelet = {}\n",
    "    two_gram_treelet = {}\n",
    "    three_gram_treelet = {}\n",
    "    for sent in sent_tokenize(data):\n",
    "        doc = nlp(sent)\n",
    "\n",
    "        for token in doc:\n",
    "            key = token.pos_\n",
    "            one_gram_treelet.update({key: one_gram_treelet.get(key, 0) + 1})\n",
    "\n",
    "            key = (token.head.pos_, token.dep_, token.pos_)\n",
    "            two_gram_treelet.update({key: two_gram_treelet.get(key, 0) + 1})\n",
    "\n",
    "            for (left_child, right_child) in combinations(token.children, 2):\n",
    "                if left_child.dep_ != 'punct' and right_child.dep_ != 'punct':\n",
    "                    key = (1, left_child.pos_, left_child.dep_, token.pos_, right_child.dep_, right_child.pos_)\n",
    "                    three_gram_treelet.update({key: three_gram_treelet.get(key, 0) + 1})\n",
    "            if token.dep_ != 'ROOT':\n",
    "                for child in token.children:\n",
    "                    if child.dep_ == 'punct' or token.dep_ == 'punct':\n",
    "                        continue\n",
    "                    key = (2, child.pos_, child.dep_, token.pos_, token.dep_, token.head.pos_)\n",
    "                    three_gram_treelet.update({key: three_gram_treelet.get(key, 0) + 1})\n",
    "                    \n",
    "    import operator\n",
    "    sorted_1gram_treelet = {}\n",
    "    from collections import OrderedDict\n",
    "    from operator import itemgetter\n",
    "    sorted_1gram_treelet = dict((sorted(one_gram_treelet.items(), key=itemgetter(1)))[-topN:])  \n",
    "    sorted_2gram_treelet = dict((sorted(two_gram_treelet.items(), key=itemgetter(1)))[-topN:])\n",
    "    sorted_3gram_treelet = dict((sorted(three_gram_treelet.items(), key=itemgetter(1)))[-topN:])\n",
    "    return (len(sent_tokenize(data)), sorted_1gram_treelet, sorted_2gram_treelet, sorted_3gram_treelet)"
   ]
  },
  {
   "cell_type": "code",
   "execution_count": 28,
   "metadata": {},
   "outputs": [
    {
     "name": "stdout",
     "output_type": "stream",
     "text": [
      "622\n",
      "{'PROPN': 193, 'CCONJ': 231, 'PRON': 355, 'PART': 382, 'ADV': 471, 'ADP': 523, 'ADJ': 555, 'VERB': 915, 'NOUN': 1287, 'PUNCT': 2006}\n"
     ]
    }
   ],
   "source": [
    "(numOfSents, sorted_1gram_treelet, sorted_2gram_treelet, sorted_3gram_treelet) = treelets(data[0][0])\n",
    "print(numOfSents)\n",
    "print(sorted_1gram_treelet)"
   ]
  },
  {
   "cell_type": "code",
   "execution_count": 29,
   "metadata": {},
   "outputs": [
    {
     "name": "stdout",
     "output_type": "stream",
     "text": [
      "{('ADJ', 'punct', 'PUNCT'): 179, ('VERB', 'conj', 'VERB'): 191, ('VERB', 'nsubj', 'NOUN'): 205, ('VERB', 'advmod', 'ADV'): 219, ('NOUN', 'amod', 'ADJ'): 265, ('VERB', 'obl', 'NOUN'): 313, ('VERB', 'ROOT', 'VERB'): 387, ('NOUN', 'case', 'ADP'): 400, ('NOUN', 'punct', 'PUNCT'): 417, ('VERB', 'punct', 'PUNCT'): 644}\n",
      "[('ADJ', 'punct', 'PUNCT'), ('VERB', 'conj', 'VERB'), ('VERB', 'nsubj', 'NOUN'), ('VERB', 'advmod', 'ADV'), ('NOUN', 'amod', 'ADJ'), ('VERB', 'obl', 'NOUN'), ('VERB', 'ROOT', 'VERB'), ('NOUN', 'case', 'ADP'), ('NOUN', 'punct', 'PUNCT'), ('VERB', 'punct', 'PUNCT')]\n"
     ]
    }
   ],
   "source": [
    "print(sorted_2gram_treelet)\n",
    "print(list(sorted_2gram_treelet.keys()))"
   ]
  },
  {
   "cell_type": "code",
   "execution_count": 30,
   "metadata": {},
   "outputs": [
    {
     "name": "stdout",
     "output_type": "stream",
     "text": [
      "{(2, 'ADJ', 'amod', 'NOUN', 'nsubj', 'VERB'): 50, (1, 'VERB', 'conj', 'VERB', 'conj', 'VERB'): 52, (2, 'CCONJ', 'cc', 'VERB', 'conj', 'VERB'): 52, (2, 'ADJ', 'amod', 'NOUN', 'obl', 'VERB'): 54, (2, 'NOUN', 'obl', 'VERB', 'conj', 'VERB'): 61, (2, 'ADP', 'case', 'NOUN', 'nmod', 'NOUN'): 64, (1, 'NOUN', 'nsubj', 'VERB', 'conj', 'VERB'): 69, (1, 'ADP', 'case', 'NOUN', 'amod', 'ADJ'): 74, (1, 'NOUN', 'obl', 'VERB', 'conj', 'VERB'): 76, (2, 'ADP', 'case', 'NOUN', 'obl', 'VERB'): 226}\n"
     ]
    }
   ],
   "source": [
    "print(sorted_3gram_treelet)"
   ]
  },
  {
   "cell_type": "code",
   "execution_count": 31,
   "metadata": {},
   "outputs": [],
   "source": [
    "import pickle"
   ]
  },
  {
   "cell_type": "markdown",
   "metadata": {},
   "source": [
    "# Анализ текстов по трилетам и сохранение полученных атрибутов для дальнейшего использования:"
   ]
  },
  {
   "cell_type": "code",
   "execution_count": 32,
   "metadata": {},
   "outputs": [],
   "source": [
    "trByAuth = []\n",
    "for authorTexts in data:\n",
    "    trByText = []\n",
    "    for text in authorTexts:\n",
    "        trByText.append(treelets(text))\n",
    "    trByAuth.append(trByText)        \n",
    "with open('dataTr.pickle', 'wb') as f:\n",
    "    pickle.dump(trByAuth, f)"
   ]
  },
  {
   "cell_type": "code",
   "execution_count": 33,
   "metadata": {},
   "outputs": [],
   "source": [
    "with open('dataTr.pickle', 'rb') as f:\n",
    "    trByAuth = pickle.load(f)"
   ]
  },
  {
   "cell_type": "code",
   "execution_count": 34,
   "metadata": {},
   "outputs": [],
   "source": [
    "trAuth = []\n",
    "for auth in trByAuth:\n",
    "    trText = []\n",
    "    for text in auth:\n",
    "        numOfSent = 1\n",
    "        numOfTreelets = list(map(lambda x: x/numOfSent, list(text[1].values()) + list(text[2].values()) + list(text[3].values())))\n",
    "        trText.append(numOfTreelets)\n",
    "    trAuth.append(trText)"
   ]
  },
  {
   "cell_type": "markdown",
   "metadata": {},
   "source": [
    "K-Means кластеризация:"
   ]
  },
  {
   "cell_type": "code",
   "execution_count": 35,
   "metadata": {},
   "outputs": [],
   "source": [
    "from sklearn.cluster import KMeans\n",
    "Xtr = trAuth[0] + trAuth[1] + trAuth[2] + trAuth[3] + trAuth[4]"
   ]
  },
  {
   "cell_type": "code",
   "execution_count": 36,
   "metadata": {},
   "outputs": [],
   "source": [
    "# костыль, у одного из списков не совпадает размер с остальными Т_Т\n",
    "for lst in Xtr:\n",
    "    if(len(lst) < 30):\n",
    "        while(len(lst) < 30):\n",
    "            lst.append(0)"
   ]
  },
  {
   "cell_type": "markdown",
   "metadata": {},
   "source": [
    "Выбор оптимального числа классов:"
   ]
  },
  {
   "cell_type": "code",
   "execution_count": 37,
   "metadata": {},
   "outputs": [],
   "source": [
    "sse = {}\n",
    "for k in range(1, 20):\n",
    "    kmeans = KMeans(n_clusters=k).fit(Xtr)\n",
    "    sse[k] = kmeans.inertia_ # Inertia: Sum of distances of samples to their closest cluster center"
   ]
  },
  {
   "cell_type": "code",
   "execution_count": 38,
   "metadata": {},
   "outputs": [
    {
     "name": "stderr",
     "output_type": "stream",
     "text": [
      "/home/valeriya/anaconda3/lib/python3.6/site-packages/matplotlib/font_manager.py:278: UserWarning: Matplotlib is building the font cache using fc-list. This may take a moment.\n",
      "  'Matplotlib is building the font cache using fc-list. '\n"
     ]
    },
    {
     "data": {
      "image/png": "[encoded data removed]",
      "text/plain": [
       "<Figure size 432x288 with 1 Axes>"
      ]
     },
     "metadata": {},
     "output_type": "display_data"
    }
   ],
   "source": [
    "%matplotlib inline\n",
    "import matplotlib.pyplot as plt\n",
    "plt.figure()\n",
    "plt.plot(list(sse.keys()), list(sse.values()))\n",
    "plt.xlabel(\"Number of cluster\")\n",
    "plt.ylabel(\"SSE\")\n",
    "plt.show()"
   ]
  },
  {
   "cell_type": "markdown",
   "metadata": {},
   "source": [
    "Выберем число кластеров, равное 5 (по числу авторов):"
   ]
  },
  {
   "cell_type": "code",
   "execution_count": 39,
   "metadata": {},
   "outputs": [],
   "source": [
    "kmeans = KMeans(n_clusters=5, random_state=0).fit(Xtr)"
   ]
  },
  {
   "cell_type": "markdown",
   "metadata": {},
   "source": [
    "Доля соответствия номера автора номеру кластера:"
   ]
  },
  {
   "cell_type": "code",
   "execution_count": 40,
   "metadata": {},
   "outputs": [],
   "source": [
    "import numpy as np\n",
    "matches = []\n",
    "for Nclust in range(5):\n",
    "    clustMatches = []\n",
    "    for Nauth in range(5):\n",
    "        authMatches = 0\n",
    "        for i in kmeans.predict(np.array(trAuth[Nauth])):\n",
    "            if i == Nclust: authMatches += 1\n",
    "        clustMatches.append(authMatches/len(trAuth[Nauth]))\n",
    "    matches.append(clustMatches)"
   ]
  },
  {
   "cell_type": "markdown",
   "metadata": {},
   "source": [
    "Матрица соответствия номера кластера номеру автора, номера строк - номера кластеров, столбцов - авторов. Столбец справа - номер столбца с максимальным значением (соответствует номеру автора, наиболее часто попадающего в данный кластер:\n"
   ]
  },
  {
   "cell_type": "code",
   "execution_count": 41,
   "metadata": {},
   "outputs": [
    {
     "name": "stdout",
     "output_type": "stream",
     "text": [
      "0.333333 0.166667 0.153846 0.250000 0.600000 4\n",
      "0.000000 0.083333 0.000000 0.000000 0.000000 1\n",
      "0.666667 0.583333 0.846154 0.750000 0.400000 2\n",
      "0.000000 0.083333 0.000000 0.000000 0.000000 1\n",
      "0.000000 0.083333 0.000000 0.000000 0.000000 1\n"
     ]
    }
   ],
   "source": [
    "for line in matches:\n",
    "    for item in line:\n",
    "        print(\"{:f}\".format(item), end=' ')\n",
    "    print(np.argmax(line), end='')\n",
    "    print()"
   ]
  },
  {
   "cell_type": "markdown",
   "metadata": {},
   "source": [
    "Анализ текстов по атрибутам дерева, сохранение полученных атрибутов для дальнейшего использования:"
   ]
  },
  {
   "cell_type": "code",
   "execution_count": 42,
   "metadata": {},
   "outputs": [],
   "source": [
    "attrsByAuth = []\n",
    "for authorTexts in data:\n",
    "    attrsByText = []\n",
    "    for text in authorTexts:\n",
    "        sents = sent_tokenize(text)\n",
    "        attrBySent = []\n",
    "        for sent in sents:\n",
    "            doc = nlp(sent)\n",
    "            try:\n",
    "                attrBySent.append(attr(doc))\n",
    "            except:\n",
    "                pass\n",
    "        attrsByText.append(attrBySent)\n",
    "    attrsByAuth.append(attrsByText)\n",
    "    with open('data.pickle', 'wb') as f:\n",
    "        pickle.dump(attrsByAuth, f)"
   ]
  },
  {
   "cell_type": "code",
   "execution_count": 43,
   "metadata": {},
   "outputs": [],
   "source": [
    "with open('data.pickle', 'rb') as f:\n",
    "    attrsByAuth = pickle.load(f)"
   ]
  },
  {
   "cell_type": "markdown",
   "metadata": {},
   "source": [
    "Средние значения и СКО атрибутов по авторам (для первого текста):"
   ]
  },
  {
   "cell_type": "code",
   "execution_count": 44,
   "metadata": {},
   "outputs": [
    {
     "name": "stdout",
     "output_type": "stream",
     "text": [
      "3.9701986754966887 1.4371280550531194\n",
      "4.019471488178025 1.997817793904956\n",
      "4.322347266881029 1.8343232422937945\n",
      "4.663291139240506 1.8755934452268772\n",
      "4.579464285714286 1.7543129705740905\n"
     ]
    }
   ],
   "source": [
    "import numpy as np\n",
    "for i in range(5):\n",
    "    depthTreeMean = np.mean([sent['depthTree'] for sent in attrsByAuth[i][0]])\n",
    "    depthTreeStd = np.std([sent['depthTree'] for sent in attrsByAuth[i][0]])\n",
    "    print(depthTreeMean, depthTreeStd)\n"
   ]
  },
  {
   "cell_type": "markdown",
   "metadata": {},
   "source": [
    "Усреднение атрибутов по всем текстам каждого из авторов:"
   ]
  },
  {
   "cell_type": "code",
   "execution_count": 45,
   "metadata": {},
   "outputs": [],
   "source": [
    "aAuth = []\n",
    "for auth in attrsByAuth:\n",
    "    aText = []\n",
    "    for text in auth:\n",
    "        x = [0,0,0]\n",
    "        n = len(text)\n",
    "        for sent in text:\n",
    "            x[0] += sent['depthTree'] / n\n",
    "            x[1] += sent['rootChild'] / n\n",
    "            x[2] += sent['sentSize'] / n\n",
    "        aText.append(x)\n",
    "    aAuth.append(aText)"
   ]
  },
  {
   "cell_type": "markdown",
   "metadata": {},
   "source": [
    "K-Means кластеризация:"
   ]
  },
  {
   "cell_type": "code",
   "execution_count": 46,
   "metadata": {},
   "outputs": [],
   "source": [
    "X = np.array(aAuth[0] + aAuth[1] + aAuth[2] + aAuth[3] + aAuth[4])"
   ]
  },
  {
   "cell_type": "markdown",
   "metadata": {},
   "source": [
    "Выбор оптимального числа классов:"
   ]
  },
  {
   "cell_type": "code",
   "execution_count": 47,
   "metadata": {},
   "outputs": [],
   "source": [
    "sse = {}\n",
    "for k in range(1, 20):\n",
    "    kmeans = KMeans(n_clusters=k).fit(X)\n",
    "    sse[k] = kmeans.inertia_ # Inertia: Sum of distances of samples to their closest cluster center"
   ]
  },
  {
   "cell_type": "code",
   "execution_count": 48,
   "metadata": {},
   "outputs": [
    {
     "data": {
      "image/png": "[encoded data removed]",
      "text/plain": [
       "<Figure size 432x288 with 1 Axes>"
      ]
     },
     "metadata": {},
     "output_type": "display_data"
    }
   ],
   "source": [
    "%matplotlib inline\n",
    "import matplotlib.pyplot as plt\n",
    "plt.figure()\n",
    "plt.plot(list(sse.keys()), list(sse.values()))\n",
    "plt.xlabel(\"Number of cluster\")\n",
    "plt.ylabel(\"SSE\")\n",
    "plt.show()\n"
   ]
  },
  {
   "cell_type": "code",
   "execution_count": 49,
   "metadata": {},
   "outputs": [],
   "source": [
    "kmeans = KMeans(n_clusters=5, random_state=0).fit(X)"
   ]
  },
  {
   "cell_type": "markdown",
   "metadata": {},
   "source": [
    "Доля соответствия номера автора номеру кластера:"
   ]
  },
  {
   "cell_type": "code",
   "execution_count": 50,
   "metadata": {},
   "outputs": [],
   "source": [
    "matches = []\n",
    "for Nclust in range(5):\n",
    "    clustMatches = []\n",
    "    for Nauth in range(5):\n",
    "        authMatches = 0\n",
    "        for i in kmeans.predict(np.array(aAuth[Nauth])):\n",
    "            if i == Nclust: authMatches += 1\n",
    "        clustMatches.append(authMatches/len(aAuth[Nauth]))\n",
    "    matches.append(clustMatches)"
   ]
  },
  {
   "cell_type": "markdown",
   "metadata": {},
   "source": [
    "Матрица соответствия номера кластера номеру автора, номера строк - номера кластеров, столбцов - авторов. Столбец справа - номер столбца с максимальным значением (соответствует номеру автора, наиболее часто попадающего в данный кластер:"
   ]
  },
  {
   "cell_type": "code",
   "execution_count": 51,
   "metadata": {},
   "outputs": [
    {
     "name": "stdout",
     "output_type": "stream",
     "text": [
      "0.000000 0.250000 0.076923 0.000000 0.000000 1\n",
      "0.166667 0.000000 0.461538 0.125000 1.000000 4\n",
      "0.333333 0.416667 0.307692 0.875000 0.000000 3\n",
      "0.000000 0.166667 0.000000 0.000000 0.000000 1\n",
      "0.500000 0.166667 0.153846 0.000000 0.000000 0\n"
     ]
    }
   ],
   "source": [
    "for line in matches:\n",
    "    for item in line:\n",
    "        print(\"{:f}\".format(item), end=' ')\n",
    "    print(np.argmax(line), end='')\n",
    "    print()"
   ]
  },
  {
   "cell_type": "markdown",
   "metadata": {},
   "source": [
    "Аналогичная кластеризация без усреднения по предложениям:"
   ]
  },
  {
   "cell_type": "code",
   "execution_count": 52,
   "metadata": {},
   "outputs": [],
   "source": [
    "aAuthL = []\n",
    "for auth in attrsByAuth:\n",
    "    aText = []\n",
    "    for text in auth:\n",
    "        for sent in text:\n",
    "            aText.append([ sent['depthTree'], sent['rootChild'], sent['sentSize'] ])\n",
    "    aAuthL.append(aText)"
   ]
  },
  {
   "cell_type": "code",
   "execution_count": 53,
   "metadata": {},
   "outputs": [],
   "source": [
    "XL = np.array(aAuthL[0] + aAuthL[1] + aAuthL[2] + aAuthL[3] + aAuthL[4])"
   ]
  },
  {
   "cell_type": "markdown",
   "metadata": {},
   "source": [
    "Выбор оптимального числа классов:"
   ]
  },
  {
   "cell_type": "code",
   "execution_count": 54,
   "metadata": {},
   "outputs": [],
   "source": [
    "sse = {}\n",
    "for k in range(1, 20):\n",
    "    kmeans = KMeans(n_clusters=k).fit(XL)\n",
    "    sse[k] = kmeans.inertia_ # Inertia: Sum of distances of samples to their closest cluster center"
   ]
  },
  {
   "cell_type": "code",
   "execution_count": 55,
   "metadata": {},
   "outputs": [
    {
     "data": {
      "image/png": "[encoded data removed]",
      "text/plain": [
       "<Figure size 432x288 with 1 Axes>"
      ]
     },
     "metadata": {},
     "output_type": "display_data"
    }
   ],
   "source": [
    "%matplotlib inline\n",
    "import matplotlib.pyplot as plt\n",
    "plt.figure()\n",
    "plt.plot(list(sse.keys()), list(sse.values()))\n",
    "plt.xlabel(\"Number of cluster\")\n",
    "plt.ylabel(\"SSE\")\n",
    "plt.show()"
   ]
  },
  {
   "cell_type": "code",
   "execution_count": 56,
   "metadata": {},
   "outputs": [],
   "source": [
    "kmeans = KMeans(n_clusters=5, random_state=0).fit(XL)"
   ]
  },
  {
   "cell_type": "markdown",
   "metadata": {},
   "source": [
    "Доля соответствия номера автора номеру кластера:"
   ]
  },
  {
   "cell_type": "code",
   "execution_count": 57,
   "metadata": {},
   "outputs": [],
   "source": [
    "matches = []\n",
    "for Nclust in range(5):\n",
    "    clustMatches = []\n",
    "    for Nauth in range(5):\n",
    "        authMatches = 0\n",
    "        for i in kmeans.predict(np.array(aAuth[Nauth])):\n",
    "            if i == Nclust: authMatches += 1\n",
    "        clustMatches.append(authMatches/len(aAuth[Nauth]))\n",
    "    matches.append(clustMatches)\n",
    "\n"
   ]
  },
  {
   "cell_type": "markdown",
   "metadata": {},
   "source": [
    "Матрица соответствия номера кластера номеру автора, номера строк - номера кластеров, столбцов - авторов. Столбец справа - номер столбца с максимальным значением (соответствует номеру автора, наиболее часто попадающего в данный кластер:"
   ]
  },
  {
   "cell_type": "code",
   "execution_count": 58,
   "metadata": {},
   "outputs": [
    {
     "name": "stdout",
     "output_type": "stream",
     "text": [
      "0.166667 0.250000 0.076923 0.375000 0.000000 3\n",
      "0.000000 0.166667 0.000000 0.000000 0.000000 1\n",
      "0.000000 0.000000 0.000000 0.000000 0.000000 0\n",
      "0.833333 0.583333 0.923077 0.625000 1.000000 4\n",
      "0.000000 0.000000 0.000000 0.000000 0.000000 0\n"
     ]
    }
   ],
   "source": [
    "for line in matches:\n",
    "    for item in line:\n",
    "        print(\"{:f}\".format(item), end=' ')\n",
    "    print(np.argmax(line), end='')\n",
    "    print()"
   ]
  },
  {
   "cell_type": "code",
   "execution_count": 59,
   "metadata": {},
   "outputs": [],
   "source": [
    "from matplotlib import pyplot as plt\n",
    "from scipy.cluster.hierarchy import dendrogram, linkage"
   ]
  },
  {
   "cell_type": "code",
   "execution_count": 60,
   "metadata": {},
   "outputs": [],
   "source": [
    "np.set_printoptions(precision=5, suppress=True)  # suppress scientific float notation"
   ]
  },
  {
   "cell_type": "markdown",
   "metadata": {},
   "source": [
    "Построение матрицы связи:"
   ]
  },
  {
   "cell_type": "code",
   "execution_count": 61,
   "metadata": {},
   "outputs": [],
   "source": [
    "Z = linkage(Xtr, 'ward')"
   ]
  },
  {
   "cell_type": "code",
   "execution_count": 62,
   "metadata": {},
   "outputs": [
    {
     "data": {
      "text/plain": [
       "0.9790253257151291"
      ]
     },
     "execution_count": 62,
     "metadata": {},
     "output_type": "execute_result"
    }
   ],
   "source": [
    "from scipy.cluster.hierarchy import cophenet\n",
    "from scipy.spatial.distance import pdist\n",
    "\n",
    "c, coph_dists = cophenet(Z, pdist(Xtr))\n",
    "c"
   ]
  },
  {
   "cell_type": "markdown",
   "metadata": {},
   "source": [
    "Построение полной дендрограммы:"
   ]
  },
  {
   "cell_type": "code",
   "execution_count": 63,
   "metadata": {},
   "outputs": [
    {
     "data": {
      "image/png": "[encoded data removed]",
      "text/plain": [
       "<Figure size 1800x720 with 1 Axes>"
      ]
     },
     "metadata": {},
     "output_type": "display_data"
    }
   ],
   "source": [
    "plt.figure(figsize=(25, 10))\n",
    "plt.title('Hierarchical Clustering Dendrogram по трилетам')\n",
    "plt.ylabel('distance')\n",
    "dendrogram(\n",
    "    Z,\n",
    "    labels=label_list,\n",
    "    leaf_rotation=90.,\n",
    "    leaf_font_size=12.,\n",
    ")\n",
    "plt.show()"
   ]
  },
  {
   "cell_type": "code",
   "execution_count": 64,
   "metadata": {},
   "outputs": [
    {
     "data": {
      "text/plain": [
       "0.6063824390272567"
      ]
     },
     "execution_count": 64,
     "metadata": {},
     "output_type": "execute_result"
    }
   ],
   "source": [
    "Z = linkage(X, 'ward')\n",
    "c, coph_dists = cophenet(Z, pdist(X))\n",
    "c"
   ]
  },
  {
   "cell_type": "code",
   "execution_count": 65,
   "metadata": {},
   "outputs": [
    {
     "data": {
      "image/png": "[encoded data removed]",
      "text/plain": [
       "<Figure size 1800x720 with 1 Axes>"
      ]
     },
     "metadata": {},
     "output_type": "display_data"
    }
   ],
   "source": [
    "plt.figure(figsize=(25, 10))\n",
    "plt.title('Hierarchical Clustering Dendrogram по признакам, характеризующим рисунок дерева')\n",
    "plt.ylabel('distance')\n",
    "dendrogram(\n",
    "    Z,\n",
    "    labels=label_list,\n",
    "    leaf_rotation=90.,\n",
    "    leaf_font_size=12.,\n",
    ")\n",
    "plt.show()"
   ]
  },
  {
   "cell_type": "markdown",
   "metadata": {},
   "source": [
    "Вывод: Наблюдаем неявное деление на три блока. Забавно, что работы Замятина относятся к разным кластерам. Именно этого автора обвиняли в списывании у Оурелла"
   ]
  }
 ],
 "metadata": {
  "kernelspec": {
   "display_name": "Python 3",
   "language": "python",
   "name": "python3"
  },
  "language_info": {
   "codemirror_mode": {
    "name": "ipython",
    "version": 3
   },
   "file_extension": ".py",
   "mimetype": "text/x-python",
   "name": "python",
   "nbconvert_exporter": "python",
   "pygments_lexer": "ipython3",
   "version": "3.6.5"
  }
 },
 "nbformat": 4,
 "nbformat_minor": 2
}
